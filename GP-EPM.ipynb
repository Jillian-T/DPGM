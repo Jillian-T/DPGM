{
 "cells": [
  {
   "cell_type": "code",
   "execution_count": 1,
   "metadata": {},
   "outputs": [
    {
     "name": "stderr",
     "output_type": "stream",
     "text": [
      "c:\\Users\\j1487\\miniconda3\\envs\\EPM\\lib\\site-packages\\tqdm\\auto.py:21: TqdmWarning: IProgress not found. Please update jupyter and ipywidgets. See https://ipywidgets.readthedocs.io/en/stable/user_install.html\n",
      "  from .autonotebook import tqdm as notebook_tqdm\n"
     ]
    }
   ],
   "source": [
    "import torch\n",
    "import matplotlib.pyplot as plt\n",
    "\n",
    "from tqdm.auto import tqdm\n",
    "from dataclasses import dataclass\n",
    "from torch.distributions import Gamma, Multinomial"
   ]
  },
  {
   "cell_type": "code",
   "execution_count": 2,
   "metadata": {},
   "outputs": [],
   "source": [
    "@dataclass\n",
    "class ExperimentConfig:\n",
    "    N: int\n",
    "    K: int\n",
    "    train_ratio: float\n",
    "    burnin: int\n",
    "    collection: int\n",
    "    binary: bool\n",
    "\n",
    "config = ExperimentConfig(100, 50, 0.8, 1500, 1500, True)"
   ]
  },
  {
   "cell_type": "code",
   "execution_count": 3,
   "metadata": {},
   "outputs": [
    {
     "data": {
      "text/plain": [
       "<matplotlib.image.AxesImage at 0x226bd2363e0>"
      ]
     },
     "execution_count": 3,
     "metadata": {},
     "output_type": "execute_result"
    },
    {
     "data": {
      "image/png": "[encoded data removed]",
      "text/plain": [
       "<Figure size 640x480 with 1 Axes>"
      ]
     },
     "metadata": {},
     "output_type": "display_data"
    }
   ],
   "source": [
    "# Synthesize Data\n",
    "syn_data = torch.zeros(config.N, config.N)\n",
    "syn_data[:50, :50] = torch.ones(50, 50)\n",
    "syn_data[50: 80, 50: 80] = torch.ones(30, 30)\n",
    "syn_data[80:, 80:] = torch.ones(20, 20)\n",
    "syn_data = torch.triu(syn_data, diagonal=1)\n",
    "\n",
    "plt.imshow(syn_data)"
   ]
  },
  {
   "cell_type": "code",
   "execution_count": 4,
   "metadata": {},
   "outputs": [],
   "source": [
    "m_idx, n_idx = torch.nonzero(syn_data, as_tuple=True)\n",
    "X = syn_data[m_idx, n_idx]\n",
    "AA = syn_data + syn_data.T"
   ]
  },
  {
   "cell_type": "code",
   "execution_count": 5,
   "metadata": {},
   "outputs": [],
   "source": [
    "eps = 1e-32\n",
    "\n",
    "def Po_plus(rate):\n",
    "    r1 = rate[rate>=1]\n",
    "    r2 = rate[rate<1]\n",
    "    m = torch.zeros_like(rate)\n",
    "    m1 = torch.zeros_like(r1)\n",
    "    m2 = torch.zeros_like(r2)\n",
    "    \n",
    "    while True:\n",
    "        dex = (m1 == 0).nonzero(as_tuple=True)\n",
    "        if dex[0].numel() == 0:\n",
    "            break\n",
    "        else:\n",
    "            r_dex = r1[dex]\n",
    "            temp = torch.poisson(r_dex)\n",
    "            idex = temp > 0\n",
    "            m1[dex] = torch.where(idex, temp, m1[dex])\n",
    "    m[rate>=1] = m1\n",
    "    \n",
    "    while True:\n",
    "        dex = (m2 == 0).nonzero(as_tuple=True)\n",
    "        if dex[0].numel() == 0:\n",
    "            break\n",
    "        else:\n",
    "            r_dex = r2[dex]\n",
    "            temp = 1 + torch.poisson(r_dex)\n",
    "            idex = torch.rand_like(temp) < (1 / temp)\n",
    "            m2[dex] = torch.where(idex, temp, m2[dex])\n",
    "    m[rate<1] = m2\n",
    "    \n",
    "    return m\n",
    "\n",
    "def CRT(n, a):\n",
    "    max_x = torch.max(n).int().item()\n",
    "    \n",
    "    rate = torch.arange(max_x).expand(*a.size(), -1) + a.unsqueeze(-1)\n",
    "    rate = a.unsqueeze(-1) / rate                           # size = (N, max_x)\n",
    "    rate = torch.repeat_interleave(rate.unsqueeze(0), len(n), dim=0)     # size = (K, N, max_x)\n",
    "    \n",
    "    bers = torch.bernoulli(rate)\n",
    "    range_ = torch.arange(max_x).expand(*n.size(), -1)\n",
    "    mask = range_ < n.unsqueeze(-1)\n",
    "    bers = bers * mask.to(torch.int)\n",
    "    bers = bers.sum(dim = -1)       # size = (K, N)\n",
    "    return bers\n",
    "\n",
    "def Multrnd_histc(n, p):\n",
    "    edges = torch.cumsum(p, dim=0)\n",
    "    edges = torch.nn.functional.pad(edges, pad=[1, 0], value=0)\n",
    "    \n",
    "    r = torch.histogram(\n",
    "        torch.rand(n) * edges[-1],\n",
    "        edges\n",
    "    ).hist\n",
    "    return r"
   ]
  },
  {
   "cell_type": "code",
   "execution_count": 6,
   "metadata": {},
   "outputs": [],
   "source": [
    "class GP_EPM:\n",
    "    def __init__(self, config: ExperimentConfig):\n",
    "        self.N = config.N\n",
    "        self.K = config.K\n",
    "        self.binary = config.binary\n",
    "\n",
    "        self.gamma_0 = 1.\n",
    "        self.c_0 = 1.\n",
    "        self.e_0 = 1.\n",
    "        self.f_0 = 0.01\n",
    "\n",
    "        self.r = torch.ones(self.K) / self.K\n",
    "        self.phi= Gamma(1., 1.).sample([self.N, self.K])\n",
    "        \n",
    "        self.c_i = torch.ones(self.N)\n",
    "        self.a_i = torch.ones(self.N)\n",
    "\n",
    "    def do_inference(self, X, m_idx, n_idx):\n",
    "        # Sample latent interaction\n",
    "        x_ij = X\n",
    "        if self.binary:\n",
    "            rate = (self.phi[m_idx] * self.phi[n_idx]) @ self.r  # size = (num)\n",
    "            x_ij = Po_plus(rate)                                 # size = (num)\n",
    "        \n",
    "        x_ik = torch.zeros(self.K, self.N)\n",
    "        for i, j, x in zip(m_idx, n_idx, x_ij):\n",
    "            pmf = self.phi[i] * self.phi[j] * self.r\n",
    "            # x_ijk = Multinomial(x.to(torch.int).item(), pmf).sample()\n",
    "            x_ijk = Multrnd_histc(x.to(torch.int), pmf)\n",
    "            x_ik[:, i] += x_ijk\n",
    "            x_ik[:, j] += x_ijk\n",
    "        print('finish x_ik')\n",
    "        \n",
    "        # Sample a_i\n",
    "        phi_r = self.phi @ torch.diag(self.r)\n",
    "        l_ik = CRT(x_ik, self.a_i).sum(dim=0)\n",
    "        omega_ik = phi_r.sum(dim=0) - phi_r\n",
    "        p_prime_ik = omega_ik / (self.c_i.view(-1, 1) + omega_ik)\n",
    "        ai_alpha = self.e_0 + l_ik\n",
    "        ai_beta = self.f_0 - torch.log(torch.clamp_min(1 - p_prime_ik, eps)).sum(dim=-1)\n",
    "        self.a_i = Gamma(ai_alpha, ai_beta).sample()\n",
    "        print('finish a_i')\n",
    "        \n",
    "        # Sample phi\n",
    "        phi_alpha = self.a_i.view(-1, 1) + x_ik.T\n",
    "        phi_beta = self.c_i.view(-1, 1) + omega_ik\n",
    "        self.phi = Gamma(phi_alpha, phi_beta).sample()\n",
    "        print('finish phi')\n",
    "        \n",
    "        # Sample c_i\n",
    "        ci_alpha = 1 + self.K * self.a_i\n",
    "        ci_beta = 1 + self.phi.sum(dim=-1)\n",
    "        self.c_i = Gamma(ci_alpha, ci_beta).sample()\n",
    "        print('finish c_i')\n",
    "        \n",
    "        # Sample r\n",
    "        temp = (self.phi * (self.phi.sum(dim=0) - self.phi)).sum(dim=0) * 0.5\n",
    "        r_alpha = self.gamma_0 / self.K + 0.5 * x_ij.sum(dim=-1)\n",
    "        r_beta = self.c_0 + temp\n",
    "        self.r = Gamma(r_alpha, r_beta).sample()\n",
    "        print('finish r')\n",
    "        \n",
    "        # Sample gamma0\n",
    "        l_tilde_k = CRT(0.5 * x_ij.sum(dim=-1, keepdim=True), torch.FloatTensor([self.gamma_0 / self.K])).sum(dim=0)\n",
    "        gamma0_alpha = 1 + l_tilde_k\n",
    "        gamma0_beta = 1 - 1 / self.K * torch.log(torch.clamp_min(self.c_0/(self.c_0+temp), eps)).sum()\n",
    "        self.gamma_0 = Gamma(gamma0_alpha, gamma0_beta).sample()\n",
    "        print('finish gamma_0')\n",
    "        \n",
    "        # Sample c_0\n",
    "        c0_alpha = 1 + self.gamma_0\n",
    "        c0_beta = 1 + self.r.sum()\n",
    "        self.c_0 = Gamma(c0_alpha, c0_beta).sample()\n",
    "        print('finish c_0')\n",
    "        \n",
    "        return x_ik"
   ]
  },
  {
   "cell_type": "code",
   "execution_count": 7,
   "metadata": {},
   "outputs": [
    {
     "name": "stderr",
     "output_type": "stream",
     "text": [
      "  0%|          | 1/3000 [00:00<10:21,  4.82it/s, K+=50, K_hard=33, gamma0=tensor([0.3435]), max_x=21]"
     ]
    },
    {
     "name": "stdout",
     "output_type": "stream",
     "text": [
      "finish x_ik\n",
      "finish a_i\n",
      "finish phi\n",
      "finish c_i\n",
      "finish r\n",
      "finish gamma_0\n",
      "finish c_0\n"
     ]
    },
    {
     "name": "stderr",
     "output_type": "stream",
     "text": [
      "  0%|          | 2/3000 [00:00<10:56,  4.57it/s, K+=50, K_hard=43, gamma0=tensor([0.1825]), max_x=190]"
     ]
    },
    {
     "name": "stdout",
     "output_type": "stream",
     "text": [
      "finish x_ik\n",
      "finish a_i\n",
      "finish phi\n",
      "finish c_i\n",
      "finish r\n",
      "finish gamma_0\n",
      "finish c_0\n",
      "finish x_ik\n"
     ]
    },
    {
     "name": "stderr",
     "output_type": "stream",
     "text": [
      "  0%|          | 3/3000 [00:00<18:05,  2.76it/s, K+=50, K_hard=40, gamma0=tensor([0.1072]), max_x=3947.0]"
     ]
    },
    {
     "name": "stdout",
     "output_type": "stream",
     "text": [
      "finish a_i\n",
      "finish phi\n",
      "finish c_i\n",
      "finish r\n",
      "finish gamma_0\n",
      "finish c_0\n",
      "finish x_ik\n"
     ]
    },
    {
     "name": "stderr",
     "output_type": "stream",
     "text": [
      "  0%|          | 4/3000 [00:04<1:30:14,  1.81s/it, K+=50, K_hard=35, gamma0=tensor([0.0955]), max_x=75719.0]"
     ]
    },
    {
     "name": "stdout",
     "output_type": "stream",
     "text": [
      "finish a_i\n",
      "finish phi\n",
      "finish c_i\n",
      "finish r\n",
      "finish gamma_0\n",
      "finish c_0\n",
      "finish x_ik\n"
     ]
    }
   ],
   "source": [
    "model = GP_EPM(config)\n",
    "prob_sample = torch.zeros(config.N, config.N)\n",
    "prob_ave = torch.zeros_like(prob_sample)\n",
    "\n",
    "progress = tqdm(range(config.burnin + config.collection))\n",
    "for i in progress:\n",
    "    x_ik = model.do_inference(X, m_idx, n_idx).T\n",
    "    \n",
    "    prob = model.phi @ torch.diag(model.r) @ model.phi.T + eps\n",
    "    prob = 1 - torch.exp(-prob)\n",
    "    if i > config.burnin:\n",
    "        prob_sample += prob\n",
    "        prob_ave = prob_sample / (i - config.burnin)\n",
    "    else:\n",
    "        prob_ave = prob\n",
    "    \n",
    "    K_positive = len(x_ik.sum(dim=0).nonzero())\n",
    "    \n",
    "    _, rdex = torch.sort(x_ik.sum(dim=0), descending=True)\n",
    "    _, z = torch.max(x_ik[:, rdex], dim=-1)\n",
    "    _, rank_dex = torch.sort(z)\n",
    "    \n",
    "    K_hard_assignment = len(torch.unique(z))\n",
    "    \n",
    "    latent_feature = model.phi[rank_dex][rdex] @ (torch.diag(model.r[rdex]) ** 0.5)\n",
    "    latent_feature = torch.log(latent_feature + 0.999)\n",
    "    \n",
    "    if (i+1)%300 == 0:\n",
    "        fig, axs = plt.subplots(1, 3, figsize=(15, 5), dpi=300)\n",
    "        axs[0].imshow(AA[rank_dex, rank_dex], cmap='jet')\n",
    "        axs[1].imshow(prob_ave + prob_ave.T, cmap='jet')\n",
    "        axs[2].imshow(latent_feature, cmap='jet')\n",
    "    \n",
    "    progress.set_postfix({'K+': K_positive, 'K_hard': K_hard_assignment, 'gamma0': model.gamma_0, 'max_x': torch.max(x_ik).item()})"
   ]
  }
 ],
 "metadata": {
  "kernelspec": {
   "display_name": "EPM",
   "language": "python",
   "name": "python3"
  },
  "language_info": {
   "codemirror_mode": {
    "name": "ipython",
    "version": 3
   },
   "file_extension": ".py",
   "mimetype": "text/x-python",
   "name": "python",
   "nbconvert_exporter": "python",
   "pygments_lexer": "ipython3",
   "version": "3.10.14"
  }
 },
 "nbformat": 4,
 "nbformat_minor": 2
}
